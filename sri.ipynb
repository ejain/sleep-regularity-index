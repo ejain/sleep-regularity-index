{
 "cells": [
  {
   "cell_type": "code",
   "execution_count": 1,
   "metadata": {},
   "outputs": [],
   "source": [
    "import csv\n",
    "import datetime\n",
    "import dateutil"
   ]
  },
  {
   "cell_type": "code",
   "execution_count": 2,
   "metadata": {},
   "outputs": [],
   "source": [
    "def parse_date(s):\n",
    "    return dateutil.parser.parse(s)\n",
    "\n",
    "assert str(parse_date(\"2018-09-01T23:00:00-07:00\")) == \"2018-09-01 23:00:00-07:00\""
   ]
  },
  {
   "cell_type": "code",
   "execution_count": 3,
   "metadata": {},
   "outputs": [],
   "source": [
    "def read_intervals(filename):\n",
    "    records = []\n",
    "    with open(filename) as file:\n",
    "        for record in csv.DictReader(file):\n",
    "            begin = dateutil.parser.parse(record[\"timestamp\"])\n",
    "            duration = datetime.timedelta(milliseconds = int(record[\"duration\"]))\n",
    "            records.append((begin, begin + duration))\n",
    "    return records\n",
    "\n",
    "intervals = read_intervals(\"sleep-regular.csv\")\n",
    "assert len(intervals) == 15\n",
    "assert intervals[0][0] == parse_date(\"2018-09-01T23:00:00-07:00\")\n",
    "assert intervals[0][1] == parse_date(\"2018-09-02T07:00:00-07:00\")"
   ]
  },
  {
   "cell_type": "code",
   "execution_count": 4,
   "metadata": {},
   "outputs": [],
   "source": [
    "def contains(intervals, t):\n",
    "    for interval in intervals:\n",
    "        if interval[0] > t:\n",
    "            break\n",
    "        if t < interval[1]:\n",
    "            return True\n",
    "    return False\n",
    "\n",
    "assert not contains([], 5)\n",
    "assert not contains([(1, 5), (6, 10)], 5)\n",
    "assert contains([(1, 10)], 5)\n",
    "assert contains([(1, 2), (5, 10)], 5)"
   ]
  },
  {
   "cell_type": "code",
   "execution_count": 5,
   "metadata": {},
   "outputs": [],
   "source": [
    "def compare_epochs(intervals):\n",
    "    one_minute = datetime.timedelta(minutes = 1)\n",
    "    one_day = datetime.timedelta(days = 1)\n",
    "    epochs = []\n",
    "    begin = intervals[0][0]\n",
    "    end = intervals[-1][1] - one_day\n",
    "    while begin < end:\n",
    "        epochs.append(0 if contains(intervals, begin) ^ contains(intervals, begin + one_day) else 1)\n",
    "        begin += one_minute\n",
    "    return epochs\n",
    "\n",
    "epochs = compare_epochs([ \n",
    "    (parse_date(\"2018-09-01T22:00:00-07:00\"), parse_date(\"2018-09-02T06:00:00-07:00\")),\n",
    "    (parse_date(\"2018-09-02T23:00:00-07:00\"), parse_date(\"2018-09-03T07:00:00-07:00\")),\n",
    "    (parse_date(\"2018-09-03T22:00:00-07:00\"), parse_date(\"2018-09-04T06:00:00-07:00\")) \n",
    "])\n",
    "assert len(epochs) == 32 * 60\n",
    "assert sum(epochs) == 29 * 60"
   ]
  },
  {
   "cell_type": "code",
   "execution_count": 6,
   "metadata": {},
   "outputs": [],
   "source": [
    "def calculate_sri(epochs):\n",
    "    return int(100  * sum(epochs) / len(epochs))\n",
    "\n",
    "assert calculate_sri([1, 1, 1, 1, 1, 1, 1, 1, 1, 1]) == 100\n",
    "assert calculate_sri([0, 0, 0, 0, 0, 1, 1, 1, 1, 1]) == 50\n",
    "assert calculate_sri([0, 0, 0, 0, 0, 0, 0, 0, 0, 0]) == 0"
   ]
  },
  {
   "cell_type": "code",
   "execution_count": 7,
   "metadata": {},
   "outputs": [],
   "source": [
    "def calculate_sri_from_file(filename):\n",
    "    intervals = read_intervals(filename)\n",
    "    epochs = compare_epochs(intervals)\n",
    "    return calculate_sri(epochs)\n",
    "\n",
    "assert calculate_sri_from_file(\"sleep-regular.csv\") == 100\n",
    "assert calculate_sri_from_file(\"sleep-alternate.csv\") == 0"
   ]
  },
  {
   "cell_type": "code",
   "execution_count": null,
   "metadata": {},
   "outputs": [],
   "source": []
  }
 ],
 "metadata": {
  "kernelspec": {
   "display_name": "Python 3",
   "language": "python",
   "name": "python3"
  },
  "language_info": {
   "codemirror_mode": {
    "name": "ipython",
    "version": 3
   },
   "file_extension": ".py",
   "mimetype": "text/x-python",
   "name": "python",
   "nbconvert_exporter": "python",
   "pygments_lexer": "ipython3",
   "version": "3.6.6"
  }
 },
 "nbformat": 4,
 "nbformat_minor": 2
}
